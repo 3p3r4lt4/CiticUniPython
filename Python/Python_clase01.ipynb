{
  "nbformat": 4,
  "nbformat_minor": 0,
  "metadata": {
    "colab": {
      "name": "Python_clase01.ipynb",
      "provenance": [],
      "authorship_tag": "ABX9TyN5OqUu1Pftq3YctnZNEdEg",
      "include_colab_link": true
    },
    "kernelspec": {
      "name": "python3",
      "display_name": "Python 3"
    },
    "language_info": {
      "name": "python"
    }
  },
  "cells": [
    {
      "cell_type": "markdown",
      "metadata": {
        "id": "view-in-github",
        "colab_type": "text"
      },
      "source": [
        "<a href=\"https://colab.research.google.com/github/3p3r4lt4/CiticUniPython/blob/main/Python/Python_clase01.ipynb\" target=\"_parent\"><img src=\"https://colab.research.google.com/assets/colab-badge.svg\" alt=\"Open In Colab\"/></a>"
      ]
    },
    {
      "cell_type": "code",
      "execution_count": 8,
      "metadata": {
        "colab": {
          "base_uri": "https://localhost:8080/"
        },
        "id": "Uqo82QUaMShN",
        "outputId": "2f5c9794-efee-4d9c-eccc-acf3054d5598"
      },
      "outputs": [
        {
          "output_type": "stream",
          "name": "stdout",
          "text": [
            "Animales de 4 patas son: \tgato\n",
            "Animales de 4 patas son: \tperro\n",
            "Animales de 4 patas son: \tardilla\n",
            "¡Cualquiera de estos animales sería una gran mascota!\n"
          ]
        }
      ],
      "source": [
        "animal =['gato','perro','ardilla']\n",
        "\n",
        "for a in animal:\n",
        "  print(f\"Animales de 4 patas son: \\t{a}\")\n",
        "print(\"¡Cualquiera de estos animales sería una gran mascota!\")"
      ]
    }
  ]
}